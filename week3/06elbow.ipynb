{
   "cells" : [
      {
         "cell_type" : "markdown",
         "metadata" : {},
         "source" : [
            "With `KMeans` we still need to choose a number `n_clusters` of clusters.\n\nHow do we pick this?\n\nThe basic idea is that we pick `n_clusters` so that a larger value of\n`n_clusters` wouldn&rsquo;t provide a substantively **better** model of the\ndata.  To make this precise, we need to clarify what **better** means.\n\n"
         ]
      },
      {
         "metadata" : {},
         "source" : [
            "## Some real data\n\n"
         ],
         "cell_type" : "markdown"
      },
      {
         "metadata" : {},
         "source" : [
            "Again, let&rsquo;s load the iris data.\n\n"
         ],
         "cell_type" : "markdown"
      },
      {
         "outputs" : [],
         "execution_count" : 1,
         "cell_type" : "code",
         "metadata" : {},
         "source" : [
            "from sklearn.datasets import load_iris\nX, y = load_iris(return_X_y=True)"
         ]
      },
      {
         "cell_type" : "markdown",
         "source" : [
            "Here we **know** labels `y` and we know that there are supposed to be\nthree species of iris.  Is this supported by the data?\n\n"
         ],
         "metadata" : {}
      },
      {
         "outputs" : [],
         "execution_count" : 1,
         "cell_type" : "code",
         "source" : [
            "kmeans = KMeans(n_clusters=3).fit(X)\nkmeans.inertia_"
         ],
         "metadata" : {}
      },
      {
         "metadata" : {},
         "source" : [
            "What is `inertia`?  This is the &ldquo;within-cluster sum-of-squares.&rdquo;\nUltimately, with `KMeans` this is what we are hoping to minimize by\npartitioning the data into the clusters.\n\nLet&rsquo;s plot this within-cluster sum-of-squares for the clusters computed via `KMeans` for multiple choices of `n_clusters`.\n\n"
         ],
         "cell_type" : "markdown"
      },
      {
         "source" : [
            "import matplotlib.pyplot as plt\nplt.plot( [KMeans(n_clusters=n).fit(X).inertia_ for n in range(1,10)] )\nplt.show()"
         ],
         "metadata" : {},
         "outputs" : [],
         "cell_type" : "code",
         "execution_count" : 1
      },
      {
         "source" : [
            "In the graph, we look for an &ldquo;elbow&rdquo; where an additional cluster\nwouldn&rsquo;t help much.  (These &ldquo;elbows&rdquo; are a common theme in data\nscience: after all, we want models complex enough to capture the\nregularities in the data, but not **too** complex to suffer from\noverfitting.)\n\n"
         ],
         "metadata" : {},
         "cell_type" : "markdown"
      },
      {
         "cell_type" : "markdown",
         "source" : [
            "## Your homework\n\n"
         ],
         "metadata" : {}
      },
      {
         "cell_type" : "markdown",
         "metadata" : {},
         "source" : [
            "Do this &ldquo;elbow analysis&rdquo; on the MNIST data.\n\nIf more than 10 clusters is warranted, can you describe what these\nadditional clusters are?\n\n"
         ]
      }
   ],
   "nbformat_minor" : 0,
   "metadata" : {
      "kernelspec" : {
         "display_name" : "Python 3",
         "name" : "python3",
         "language" : "python"
      },
      "language_info" : {
         "pygments_lexer" : "ipython3",
         "version" : "3.5.2",
         "mimetype" : "text/x-python",
         "name" : "python",
         "file_extension" : ".py",
         "nbconvert_exporter" : "python",
         "codemirror_mode" : {
            "version" : 3,
            "name" : "ipython"
         }
      },
      "org" : null
   },
   "nbformat" : 4
}

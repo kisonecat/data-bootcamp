{
   "metadata" : {
      "language_info" : {
         "name" : "python",
         "mimetype" : "text/x-python",
         "pygments_lexer" : "ipython3",
         "file_extension" : ".py",
         "version" : "3.5.2",
         "nbconvert_exporter" : "python",
         "codemirror_mode" : {
            "name" : "ipython",
            "version" : 3
         }
      },
      "kernelspec" : {
         "display_name" : "Python 3",
         "language" : "python",
         "name" : "python3"
      },
      "org" : null
   },
   "cells" : [
      {
         "source" : [
            "We&rsquo;ve already seen k-means, and let me emphasize how great k-means\nwas: simple to describe, quick to run.\n\nIt doesn&rsquo;t always work, however.\n\n"
         ],
         "metadata" : {},
         "cell_type" : "markdown"
      },
      {
         "cell_type" : "markdown",
         "source" : [
            "## Some fake data\n\n"
         ],
         "metadata" : {}
      },
      {
         "outputs" : [],
         "cell_type" : "code",
         "execution_count" : 1,
         "source" : [
            "import numpy as np\ncount = 1000\nangles = np.random.uniform( 0, 2*np.pi, count )\nring = np.array([np.sin( angles ), np.cos( angles )]) * np.random.uniform(2,3,count)\nring = ring.transpose()\nblob = np.random.normal(0,0.3,size=(count,2))\n\ny = np.repeat([0,1],count)\nX = np.vstack( [ring,blob] )"
         ],
         "metadata" : {}
      },
      {
         "cell_type" : "markdown",
         "metadata" : {},
         "source" : [
            "Let&rsquo;s ****look at our data****.\n\n"
         ]
      },
      {
         "outputs" : [],
         "cell_type" : "code",
         "metadata" : {},
         "source" : [
            "import matplotlib.pyplot as plt\nplt.scatter( X[:,0], X[:,1],c=y )\nplt.show()"
         ],
         "execution_count" : 1
      },
      {
         "source" : [
            "## Why is k-means broken here?\n\n"
         ],
         "metadata" : {},
         "cell_type" : "markdown"
      },
      {
         "source" : [
            "Let&rsquo;s try k-means.\n\n"
         ],
         "metadata" : {},
         "cell_type" : "markdown"
      },
      {
         "cell_type" : "code",
         "outputs" : [],
         "metadata" : {},
         "source" : [
            "from sklearn.cluster import KMeans\nkmeans = KMeans(n_clusters=2).fit(X)\nkmeans.labels_\nplt.scatter( X[:,0], X[:,1],c=kmeans.labels_ )\nplt.show()"
         ],
         "execution_count" : 1
      },
      {
         "cell_type" : "markdown",
         "metadata" : {},
         "source" : [
            "That did not work.\n\n"
         ]
      },
      {
         "cell_type" : "markdown",
         "source" : [
            "## DBSCAN ftw\n\n"
         ],
         "metadata" : {}
      },
      {
         "cell_type" : "markdown",
         "source" : [
            "DBSCAN is a popular clustering algorithm which won&rsquo;t fall victim to\nthat trap.\n\n"
         ],
         "metadata" : {}
      },
      {
         "outputs" : [],
         "cell_type" : "code",
         "execution_count" : 1,
         "metadata" : {},
         "source" : [
            "from sklearn.cluster import DBSCAN\ndbscan = DBSCAN().fit(X)\ndbscan.labels_\nplt.scatter( X[:,0], X[:,1],c=dbscan.labels_ )\nplt.show()"
         ]
      }
   ],
   "nbformat_minor" : 0,
   "nbformat" : 4
}

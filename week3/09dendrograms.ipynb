{
   "nbformat_minor" : 0,
   "metadata" : {
      "org" : null,
      "language_info" : {
         "mimetype" : "text/x-python",
         "file_extension" : ".py",
         "codemirror_mode" : {
            "version" : 3,
            "name" : "ipython"
         },
         "version" : "3.5.2",
         "nbconvert_exporter" : "python",
         "name" : "python",
         "pygments_lexer" : "ipython3"
      },
      "kernelspec" : {
         "display_name" : "Python 3",
         "language" : "python",
         "name" : "python3"
      }
   },
   "nbformat" : 4,
   "cells" : [
      {
         "metadata" : {},
         "cell_type" : "markdown",
         "source" : [
            "## Financial data\n\n"
         ]
      },
      {
         "source" : [
            "Let&rsquo;s **again** load some stock prices.\n\n"
         ],
         "cell_type" : "markdown",
         "metadata" : {}
      },
      {
         "cell_type" : "code",
         "metadata" : {},
         "execution_count" : 1,
         "source" : [
            "import os, json\nfiles = [f for f in os.listdir('week3/stocks') if f.endswith('.json')]\n\ndata = {}\nsymbols = []\nfor name in files:\n    with open(os.path.join('week3/stocks/', name),'r') as f:\n        d = json.load(f)\n        symbol = d['Meta Data']['2. Symbol']\n        symbols.append( symbol )\n        data[ symbol ] = d['Time Series (Daily)']"
         ],
         "outputs" : []
      },
      {
         "cell_type" : "markdown",
         "metadata" : {},
         "source" : [
            "Convert it to a `pandas` data frame, and then to a `numpy` array called `X`.\n\n"
         ]
      },
      {
         "execution_count" : 1,
         "source" : [
            "import pandas as pd\n\nmarket = pd.DataFrame(columns=['date'])\n\nfor symbol in data.keys():\n    dates = pd.DataFrame( pd.to_datetime( list(data[symbol].keys()) ), columns=['date'] )\n    closes = pd.DataFrame( [float(x['5. adjusted close']) for x in data[symbol].values()], columns=[symbol] )\n    df = pd.DataFrame( pd.concat( [dates, closes], axis=1 ) )\n    market = market.merge( df, how='outer' )\n\nimport numpy as np\nprices = market.drop('date',axis=1)\nsymbols = list(prices.columns)\nX = np.array([prices[s] for s in symbols])"
         ],
         "cell_type" : "code",
         "metadata" : {},
         "outputs" : []
      },
      {
         "source" : [
            "### Make a plot\n\n"
         ],
         "cell_type" : "markdown",
         "metadata" : {}
      },
      {
         "outputs" : [],
         "execution_count" : 1,
         "source" : [
            "from matplotlib import pyplot as plt\nfrom scipy.cluster.hierarchy import dendrogram, linkage  \n\nlinked = linkage(X, 'complete', metric='cosine')\ndendrogram(linked, labels=symbols)\nplt.show()"
         ],
         "cell_type" : "code",
         "metadata" : {}
      },
      {
         "source" : [
            "## The works of Shakespeare\n\n"
         ],
         "cell_type" : "markdown",
         "metadata" : {}
      },
      {
         "outputs" : [],
         "cell_type" : "code",
         "metadata" : {},
         "source" : [
            "works = [\"A LOVERâS COMPLAINT\",\n\"A MIDSUMMER NIGHTâS DREAM\",\n\"ALLâS WELL THAT ENDS WELL\",\n\"AS YOU LIKE IT\",\n\"CYMBELINE\",\n\"KING HENRY THE EIGHTH\",\n\"KING JOHN\",\n\"KING RICHARD THE SECOND\",\n\"KING RICHARD THE THIRD\",\n\"LOVEâS LABOURâS LOST\",\n\"MEASURE FOR MEASURE\",\n\"MUCH ADO ABOUT NOTHING\",\n\"PERICLES, PRINCE OF TYRE\",\n\"THE COMEDY OF ERRORS\",\n\"THE FIRST PART OF HENRY THE SIXTH\",\n\"THE FIRST PART OF KING HENRY THE FOURTH\",\n\"THE HISTORY OF TROILUS AND CRESSIDA\",\n\"THE LIFE OF KING HENRY THE FIFTH\",\n\"THE LIFE OF TIMON OF ATHENS\",\n\"THE MERCHANT OF VENICE\",\n\"THE MERRY WIVES OF WINDSOR\",\n\"THE PASSIONATE PILGRIM\",\n\"THE PHOENIX AND THE TURTLE\",\n\"THE RAPE OF LUCRECE\",\n\"THE SECOND PART OF KING HENRY THE FOURTH\",\n\"THE SECOND PART OF KING HENRY THE SIXTH\",\n\"THE TAMING OF THE SHREW\",\n\"THE TEMPEST\",\n\"THE THIRD PART OF KING HENRY THE SIXTH\",\n\"THE TRAGEDY OF ANTONY AND CLEOPATRA\",\n\"THE TRAGEDY OF CORIOLANUS\",\n\"THE TRAGEDY OF HAMLET, PRINCE OF DENMARK\",\n\"THE TRAGEDY OF JULIUS CAESAR\",\n\"THE TRAGEDY OF KING LEAR\",\n\"THE TRAGEDY OF MACBETH\",\n\"THE TRAGEDY OF OTHELLO, MOOR OF VENICE\",\n\"THE TRAGEDY OF ROMEO AND JULIET\",\n\"THE TRAGEDY OF TITUS ANDRONICUS\",\n\"THE TWO GENTLEMEN OF VERONA\",\n\"THE TWO NOBLE KINSMEN\",\n\"THE WINTERâS TALE\",\n\"TWELFTH NIGHT; OR, WHAT YOU WILL\",\n\"VENUS AND ADONIS\"]\n\nfrom urllib.request import urlopen\n\ncorpus = {}\ncurrent = []\nfor line in urlopen('http://www.gutenberg.org/files/100/100-0.txt'):\n    line = line.decode('utf-8')\n    if line.strip() in works:\n        current = corpus[line.strip()] = []\n    current.append( line )\n\nfor work in works:\n    corpus[work] = ''.join(corpus[work])\n\nfrom sklearn.feature_extraction.text import TfidfVectorizer\nvectorizer = TfidfVectorizer(stop_words = 'english')\nX = vectorizer.fit_transform( [corpus[w] for w in works] )"
         ],
         "execution_count" : 1
      },
      {
         "cell_type" : "markdown",
         "metadata" : {},
         "source" : [
            "### Make a plot\n\n"
         ]
      },
      {
         "execution_count" : 1,
         "source" : [
            "from matplotlib import pyplot as plt\nfrom scipy.cluster.hierarchy import dendrogram, linkage  \n\nfrom sklearn.metrics.pairwise import cosine_similarity\nlinked = linkage(1 - cosine_similarity(X,X))\ndendrogram(linked, labels=works)\nplt.show()"
         ],
         "cell_type" : "code",
         "metadata" : {},
         "outputs" : []
      }
   ]
}

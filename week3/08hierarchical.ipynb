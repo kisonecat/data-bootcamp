{
   "metadata" : {
      "org" : null,
      "language_info" : {
         "nbconvert_exporter" : "python",
         "name" : "python",
         "mimetype" : "text/x-python",
         "file_extension" : ".py",
         "codemirror_mode" : {
            "name" : "ipython",
            "version" : 3
         },
         "pygments_lexer" : "ipython3",
         "version" : "3.5.2"
      },
      "kernelspec" : {
         "name" : "python3",
         "language" : "python",
         "display_name" : "Python 3"
      }
   },
   "nbformat" : 4,
   "cells" : [
      {
         "metadata" : {},
         "cell_type" : "markdown",
         "source" : [
            "By &ldquo;agglomerative&rdquo; we mean a clustering technique in which we initially start with individual data points as the &ldquo;clusters&rdquo; and over time we &ldquo;agglomerate&rdquo; these small clusters into larger clusters.\n\nThere is the opposite strategy, i.e., that is divisive clustering\nwhich begins with a single giant cluster and splits it.\n\n"
         ]
      },
      {
         "metadata" : {},
         "cell_type" : "markdown",
         "source" : [
            "## Some real data\n\n"
         ]
      },
      {
         "source" : [
            "By now surely you&rsquo;re getting tired of this iris data set?\n\n"
         ],
         "metadata" : {},
         "cell_type" : "markdown"
      },
      {
         "execution_count" : 1,
         "source" : [
            "from sklearn.datasets import load_iris\nX, y = load_iris(return_X_y=True)"
         ],
         "metadata" : {},
         "cell_type" : "code",
         "outputs" : []
      },
      {
         "source" : [
            "## Draw a dendrogram\n\n"
         ],
         "metadata" : {},
         "cell_type" : "markdown"
      },
      {
         "cell_type" : "markdown",
         "metadata" : {},
         "source" : [
            "Like so many things `scikit-learn` makes drawing a dendrogram quite easy.\n\n"
         ]
      },
      {
         "outputs" : [],
         "metadata" : {},
         "cell_type" : "code",
         "execution_count" : 1,
         "source" : [
            "from matplotlib import pyplot as plt\nfrom scipy.cluster.hierarchy import dendrogram, linkage  \n\nlinked = linkage(X)\ndendrogram(linked, labels=y)\nplt.show()"
         ]
      },
      {
         "source" : [
            "And like so many things, `scikit-learn` offers many parameters which\ngreatly modify the output.\n\n"
         ],
         "cell_type" : "markdown",
         "metadata" : {}
      },
      {
         "source" : [
            "linked = linkage(X, 'ward')\ndendrogram(linked, labels=y, leaf_rotation=0,leaf_font_size=6)\nplt.show()"
         ],
         "execution_count" : 1,
         "cell_type" : "code",
         "metadata" : {},
         "outputs" : []
      },
      {
         "metadata" : {},
         "cell_type" : "markdown",
         "source" : [
            "## Perform agglomerative clustering\n\n"
         ]
      },
      {
         "execution_count" : 1,
         "source" : [
            "from sklearn.cluster import AgglomerativeClustering\nac = AgglomerativeClustering(n_clusters=3)\nac.fit(X)\nac.labels_"
         ],
         "metadata" : {},
         "cell_type" : "code",
         "outputs" : []
      },
      {
         "cell_type" : "markdown",
         "metadata" : {},
         "source" : [
            "How did we do?\n\n"
         ]
      },
      {
         "outputs" : [],
         "cell_type" : "code",
         "metadata" : {},
         "execution_count" : 1,
         "source" : [
            "from sklearn.metrics import adjusted_rand_score\nadjusted_rand_score(y, ac.labels_)"
         ]
      },
      {
         "source" : [
            "from sklearn.metrics import confusion_matrix\nconfusion_matrix( y, ac.labels_ )"
         ],
         "execution_count" : 1,
         "metadata" : {},
         "cell_type" : "code",
         "outputs" : []
      },
      {
         "cell_type" : "markdown",
         "metadata" : {},
         "source" : [
            "Let&rsquo;s ****look at our data****.\n\n"
         ]
      },
      {
         "outputs" : [],
         "cell_type" : "code",
         "metadata" : {},
         "execution_count" : 1,
         "source" : [
            "import matplotlib.pyplot as plt\nplt.scatter( X[:,1], X[:,2],c=y )\nfor i, label in enumerate(ac.labels_):\n    plt.annotate(label, (X[i,1], X[i,2]))\nplt.show()"
         ]
      },
      {
         "source" : [
            "## Is this really better than k-means?\n\n"
         ],
         "cell_type" : "markdown",
         "metadata" : {}
      },
      {
         "metadata" : {},
         "cell_type" : "markdown",
         "source" : [
            "Let&rsquo;s do some k-means!\n\n"
         ]
      },
      {
         "metadata" : {},
         "cell_type" : "code",
         "outputs" : [],
         "source" : [
            "from sklearn.cluster import KMeans\nkmeans = KMeans(n_clusters=3).fit(X)\nkmeans.labels_"
         ],
         "execution_count" : 1
      },
      {
         "metadata" : {},
         "cell_type" : "markdown",
         "source" : [
            "We could judge this via some metrics.\n\n"
         ]
      },
      {
         "source" : [
            "from sklearn.metrics import adjusted_rand_score\nadjusted_rand_score(y, kmeans.labels_)"
         ],
         "execution_count" : 1,
         "outputs" : [],
         "metadata" : {},
         "cell_type" : "code"
      },
      {
         "metadata" : {},
         "cell_type" : "markdown",
         "source" : [
            "But we could also just look at some pictures.\n\n"
         ]
      },
      {
         "outputs" : [],
         "cell_type" : "code",
         "metadata" : {},
         "execution_count" : 1,
         "source" : [
            "import matplotlib.pyplot as plt\nplt.scatter( X[:,1], X[:,2],c=y )\nfor i, label in enumerate(kmeans.labels_):\n    plt.annotate(label, (X[i,1], X[i,2]))\nplt.show()"
         ]
      }
   ],
   "nbformat_minor" : 0
}

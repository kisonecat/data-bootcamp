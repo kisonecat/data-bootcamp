{
   "cells" : [
      {
         "cell_type" : "markdown",
         "metadata" : {},
         "source" : [
            "When we do **unsupervised learning** we wish to draw inferences from\ndatasets which consist of input data **without** pre-assigned labels or\ntargets.  This is important in part when we&rsquo;re initially exploring the\ndata (performing so-called &ldquo;exploratory data analysis&rdquo;) and we may not\nhave a good sense for how the data is distributed.\n\n"
         ]
      },
      {
         "cell_type" : "markdown",
         "metadata" : {},
         "source" : [
            "## Clustering\n\n"
         ]
      },
      {
         "source" : [
            "Clustering of unlabeled data can be performed with `sklearn.cluster`.\nJust as `scikit-learn` provides us with a common framework for\nbuilding models, it also provides a common framework here.\n\nEach clustering method includes a class implementing `fit` to learn\nthe clusters.  Then you can inspect `labels_` to get the learned\nlabels.\n\n"
         ],
         "metadata" : {},
         "cell_type" : "markdown"
      },
      {
         "metadata" : {},
         "source" : [
            "## Some fake data\n\n"
         ],
         "cell_type" : "markdown"
      },
      {
         "metadata" : {},
         "source" : [
            "Unsurprisingly, let&rsquo;s produce some fake data.\n\n"
         ],
         "cell_type" : "markdown"
      },
      {
         "cell_type" : "code",
         "outputs" : [],
         "source" : [
            "import numpy as np\nfrom sklearn.datasets import make_blobs\n\nK = 2 # classes\nN = 100 # in each class\nX, y = make_blobs(n_samples=N*K, centers=K, n_features=2)"
         ],
         "metadata" : {},
         "execution_count" : 1
      },
      {
         "source" : [
            "Here we know the truth: the labels are in `y`.  Can we recover these\nlabels by using `scikit-learn`?  We don&rsquo;t yet know what `KMeans` is,\nbut everything in `sklearn.cluster` has a `fit` after which you can\ninspect `labels_`, so let&rsquo;s do that.\n\n"
         ],
         "metadata" : {},
         "cell_type" : "markdown"
      },
      {
         "execution_count" : 1,
         "metadata" : {},
         "source" : [
            "from sklearn.cluster import KMeans\nkmeans = KMeans(n_clusters=2).fit(X)\nkmeans.labels_"
         ],
         "outputs" : [],
         "cell_type" : "code"
      },
      {
         "cell_type" : "markdown",
         "source" : [
            "How did we do?\n\n"
         ],
         "metadata" : {}
      },
      {
         "outputs" : [],
         "cell_type" : "code",
         "execution_count" : 1,
         "metadata" : {},
         "source" : [
            "from sklearn.metrics import confusion_matrix\nconfusion_matrix( y, kmeans.labels_ )"
         ]
      },
      {
         "cell_type" : "markdown",
         "source" : [
            "Note that we had to tell `KMeans` the **desired** number of clusters\n`n_clusters`.  What if we chose the wrong number of clusters?\n\n"
         ],
         "metadata" : {}
      },
      {
         "execution_count" : 1,
         "metadata" : {},
         "source" : [
            "kmeans = KMeans(n_clusters=5).fit(X)\nconfusion_matrix( y, kmeans.labels_ )"
         ],
         "outputs" : [],
         "cell_type" : "code"
      },
      {
         "source" : [
            "## Return of the iris\n\n"
         ],
         "metadata" : {},
         "cell_type" : "markdown"
      },
      {
         "metadata" : {},
         "source" : [
            "Let&rsquo;s load that iris data again.\n\n"
         ],
         "cell_type" : "markdown"
      },
      {
         "cell_type" : "code",
         "outputs" : [],
         "source" : [
            "from sklearn.datasets import load_iris\nX, y = load_iris(return_X_y=True)"
         ],
         "execution_count" : 1,
         "metadata" : {}
      },
      {
         "cell_type" : "markdown",
         "metadata" : {},
         "source" : [
            "Of course this is **labeled** data, but again we can see how well we might be able to recover the clusters if someone hadn&rsquo;t told us `y`.\n\n"
         ]
      },
      {
         "cell_type" : "code",
         "outputs" : [],
         "source" : [
            "kmeans = KMeans(n_clusters=3).fit(X)\nconfusion_matrix( y, kmeans.labels_ )"
         ],
         "metadata" : {},
         "execution_count" : 1
      },
      {
         "metadata" : {},
         "source" : [
            "We can plot the ground truth.\n\n"
         ],
         "cell_type" : "markdown"
      },
      {
         "outputs" : [],
         "cell_type" : "code",
         "execution_count" : 1,
         "metadata" : {},
         "source" : [
            "import matplotlib.pyplot as plt\nplt.scatter( X[:,1], X[:,2],c=y)\nplt.show()"
         ]
      },
      {
         "cell_type" : "markdown",
         "metadata" : {},
         "source" : [
            "We can plot what `scikit-learn` found as the labels.\n\n"
         ]
      },
      {
         "cell_type" : "code",
         "outputs" : [],
         "source" : [
            "import matplotlib.pyplot as plt\nplt.scatter( X[:,1], X[:,2],c=kmeans.labels_)\nplt.show()"
         ],
         "execution_count" : 1,
         "metadata" : {}
      },
      {
         "cell_type" : "markdown",
         "source" : [
            "Where do they differ?  Where do these match?\n\n"
         ],
         "metadata" : {}
      },
      {
         "metadata" : {},
         "execution_count" : 1,
         "source" : [
            "import matplotlib.pyplot as plt\nplt.scatter( X[:,1], X[:,2],c=kmeans.labels_ == y) ; plt.show()"
         ],
         "outputs" : [],
         "cell_type" : "code"
      },
      {
         "cell_type" : "markdown",
         "metadata" : {},
         "source" : [
            "## MNIST digits\n\n"
         ]
      },
      {
         "source" : [
            "Let&rsquo;s load the MNIST digits.\n\n"
         ],
         "metadata" : {},
         "cell_type" : "markdown"
      },
      {
         "outputs" : [],
         "cell_type" : "code",
         "metadata" : {},
         "execution_count" : 1,
         "source" : [
            "from sklearn.datasets import load_digits\nX,y = load_digits(return_X_y=True)"
         ]
      },
      {
         "metadata" : {},
         "source" : [
            "Let&rsquo;s cluster.\n\n"
         ],
         "cell_type" : "markdown"
      },
      {
         "outputs" : [],
         "cell_type" : "code",
         "execution_count" : 1,
         "metadata" : {},
         "source" : [
            "kmeans = KMeans(n_clusters=3).fit(X)\nconfusion_matrix( y, kmeans.labels_ )"
         ]
      },
      {
         "metadata" : {},
         "source" : [
            "That&rsquo;s definitely the wrong number of clusters.\n\n"
         ],
         "cell_type" : "markdown"
      },
      {
         "cell_type" : "code",
         "outputs" : [],
         "source" : [
            "kmeans = KMeans(n_clusters=10).fit(X)\nconfusion_matrix( y, kmeans.labels_ )"
         ],
         "metadata" : {},
         "execution_count" : 1
      },
      {
         "cell_type" : "markdown",
         "metadata" : {},
         "source" : [
            "The `confusion_matrix` isn&rsquo;t really the right thing here: the labels\nlearned via unsupervised learning, at the very least, could be\npermuted without being wrong.  When the ground truth (namely `y`) is\nknown, there are a variety of metrics that one can use.\n\n"
         ]
      },
      {
         "source" : [
            "from sklearn.metrics import adjusted_rand_score\nadjusted_rand_score(y, kmeans.labels_)"
         ],
         "execution_count" : 1,
         "metadata" : {},
         "cell_type" : "code",
         "outputs" : []
      },
      {
         "metadata" : {},
         "source" : [
            "As always, it helps if we can ****look at the data****.\n\n"
         ],
         "cell_type" : "markdown"
      },
      {
         "cell_type" : "code",
         "outputs" : [],
         "source" : [
            "digit = 7\nimages = X[kmeans.labels_ == digit]\n\nfig, axes = plt.subplots(10,10)\n\nfor i in range(10):\n    for j in range(10):\n        axes[i,j].axis('off')\n        axes[i,j].imshow(images[i * 10 + j].reshape(8,8))\n\nplt.show()"
         ],
         "metadata" : {},
         "execution_count" : 1
      }
   ],
   "nbformat" : 4,
   "metadata" : {
      "kernelspec" : {
         "name" : "python3",
         "language" : "python",
         "display_name" : "Python 3"
      },
      "language_info" : {
         "name" : "python",
         "file_extension" : ".py",
         "mimetype" : "text/x-python",
         "pygments_lexer" : "ipython3",
         "nbconvert_exporter" : "python",
         "version" : "3.5.2",
         "codemirror_mode" : {
            "version" : 3,
            "name" : "ipython"
         }
      },
      "org" : null
   },
   "nbformat_minor" : 0
}

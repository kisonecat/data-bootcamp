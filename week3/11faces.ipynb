{
   "nbformat_minor" : 0,
   "metadata" : {
      "org" : null,
      "language_info" : {
         "name" : "python",
         "codemirror_mode" : {
            "version" : 3,
            "name" : "ipython"
         },
         "version" : "3.5.2",
         "nbconvert_exporter" : "python",
         "mimetype" : "text/x-python",
         "pygments_lexer" : "ipython3",
         "file_extension" : ".py"
      },
      "kernelspec" : {
         "language" : "python",
         "name" : "python3",
         "display_name" : "Python 3"
      }
   },
   "cells" : [
      {
         "cell_type" : "markdown",
         "source" : [
            "## Load some faces\n\n"
         ],
         "metadata" : {}
      },
      {
         "metadata" : {},
         "source" : [
            "Download the data from [http://www.cad.zju.edu.cn/home/dengcai/Data/Yale/Yale_64x64.mat>](http://www.cad.zju.edu.cn/home/dengcai/Data/Yale/Yale_64x64.mat>)perhaps by using `wget` or `curl`.\n\nLet&rsquo;s load the data.  It&rsquo;s in a MATLAB format, but `scipy` can read\nthese.\n\n"
         ],
         "cell_type" : "markdown"
      },
      {
         "cell_type" : "code",
         "outputs" : [],
         "execution_count" : 1,
         "metadata" : {},
         "source" : [
            "import scipy.io\nX = scipy.io.loadmat('Yale_64x64.mat')['fea']\ny = scipy.io.loadmat('Yale_64x64.mat')['gnd'].reshape(-1)"
         ]
      },
      {
         "cell_type" : "markdown",
         "metadata" : {},
         "source" : [
            "## Display a face\n\n"
         ]
      },
      {
         "metadata" : {},
         "source" : [
            "We&rsquo;ll use `cmap='gray'` so we have a grayscale colormap.  Then we can\ntake a look at one of the faces.  We&rsquo;ll `transpose` so the face is\nlooking at us.\n\n"
         ],
         "cell_type" : "markdown"
      },
      {
         "source" : [
            "face = X[17].reshape(64,64)\nimport matplotlib.pyplot as plt\nplt.imshow(face.transpose(),cmap='gray')\nplt.show()"
         ],
         "metadata" : {},
         "execution_count" : 1,
         "outputs" : [],
         "cell_type" : "code"
      },
      {
         "metadata" : {},
         "source" : [
            "## The mean face\n\n"
         ],
         "cell_type" : "markdown"
      },
      {
         "metadata" : {},
         "source" : [
            "These faces are aligned.  We can see this by taking the &ldquo;mean face.&rdquo;\n\n"
         ],
         "cell_type" : "markdown"
      },
      {
         "outputs" : [],
         "cell_type" : "code",
         "source" : [
            "import numpy as np\nmean_face = np.mean(X, axis=0)\nimport matplotlib.pyplot as plt\nplt.imshow(mean_face.reshape(64,64).transpose(),cmap='gray')\nplt.show()"
         ],
         "execution_count" : 1,
         "metadata" : {}
      },
      {
         "cell_type" : "markdown",
         "metadata" : {},
         "source" : [
            "## Reduce dimension\n\n"
         ]
      },
      {
         "cell_type" : "markdown",
         "source" : [
            "There are many ways to reduce the dimension of this data set.  One\n**very** aggressive thing to do is SVD.\n\n"
         ],
         "metadata" : {}
      },
      {
         "execution_count" : 1,
         "metadata" : {},
         "source" : [
            "import numpy as np\nU, s, V = np.linalg.svd(X - mean_face)\n\ns[3:] = 0\nS = np.zeros(X.shape)\nS[:len(s), :len(s)] = np.diag(s)\nUS = np.matmul(U,S)"
         ],
         "cell_type" : "code",
         "outputs" : []
      },
      {
         "cell_type" : "markdown",
         "metadata" : {},
         "source" : [
            "This is throwing away a ton of data, and yet the faces are &ldquo;still\nthere.&rdquo;  For proof, let&rsquo;s load one.\n\n"
         ]
      },
      {
         "cell_type" : "code",
         "outputs" : [],
         "source" : [
            "Xp = np.matmul(np.matmul(U,S),V)\nface = (Xp[17] + mean_face).reshape(64,64)\nplt.imshow(face.transpose(),cmap='gray')\nplt.show()"
         ],
         "execution_count" : 1,
         "metadata" : {}
      },
      {
         "source" : [
            "We van interactively view these faces.\n\n"
         ],
         "metadata" : {},
         "cell_type" : "markdown"
      },
      {
         "cell_type" : "code",
         "outputs" : [],
         "source" : [
            "%matplotlib inline\nfrom ipywidgets import interactive\nimport matplotlib.pyplot as plt\nimport numpy as np\n\nimport numpy as np\nU, s, V = np.linalg.svd(X - mean_face)\n\ns[4:] = 0\nS = np.zeros(X.shape)\nS[:len(s), :len(s)] = np.diag(s)\nUS = np.matmul(U,S)\n\ndef f(a, b, c, d):\n    Xp = np.matmul(np.matmul(U,S),V)\n    face = (a*V[:,0] + b*V[:,1] + c*V[:,2] + d*V[:,3] + mean_face).reshape(64,64)\n    plt.imshow(face.transpose(),cmap='gray')\n    plt.show()\n\ninteractive_plot = interactive(f, a=(-5,5), b=(-5,5), c=(-5,5), d=(-5,5))\noutput = interactive_plot.children[-1]\noutput.layout.height = '350px'\ninteractive_plot"
         ],
         "metadata" : {},
         "execution_count" : 1
      },
      {
         "metadata" : {},
         "source" : [
            "## Plotting in 3D\n\n"
         ],
         "cell_type" : "markdown"
      },
      {
         "metadata" : {},
         "source" : [
            "Can we identify any clusters in this low-dimensional projection?\n\n"
         ],
         "cell_type" : "markdown"
      },
      {
         "source" : [
            "from mpl_toolkits import mplot3d\nfig = plt.figure()\nax = plt.axes(projection='3d')\nax.scatter( US[:,0], US[:,1], US[:,2], c )\nplt.show()"
         ],
         "metadata" : {},
         "execution_count" : 1,
         "cell_type" : "code",
         "outputs" : []
      }
   ],
   "nbformat" : 4
}

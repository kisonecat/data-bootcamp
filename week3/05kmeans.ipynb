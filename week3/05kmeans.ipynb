{
   "cells" : [
      {
         "source" : [
            "A danger of `scikit-learn` is, with all its black boxes, we&rsquo;ll simply use the boxes without ever peeking inside and understanding how things work.  Let&rsquo;s peek inside `KMeans` by reimplementing this with `numpy`.\n\n"
         ],
         "metadata" : {},
         "cell_type" : "markdown"
      },
      {
         "source" : [
            "import numpy as np"
         ],
         "execution_count" : 1,
         "outputs" : [],
         "cell_type" : "code",
         "metadata" : {}
      },
      {
         "source" : [
            "## Recall how we used KMeans\n\n"
         ],
         "cell_type" : "markdown",
         "metadata" : {}
      },
      {
         "source" : [
            "We produce some random data.\n\n"
         ],
         "cell_type" : "markdown",
         "metadata" : {}
      },
      {
         "outputs" : [],
         "execution_count" : 1,
         "metadata" : {},
         "cell_type" : "code",
         "source" : [
            "from sklearn.datasets import make_blobs\nK = 2 # classes\nN = 100 # in each class\ndimension = 2\nX, y = make_blobs(n_samples=N*K, centers=K, n_features=dimension)"
         ]
      },
      {
         "cell_type" : "markdown",
         "metadata" : {},
         "source" : [
            "Now we can apply `KMeans`.\n\n"
         ]
      },
      {
         "execution_count" : 1,
         "outputs" : [],
         "cell_type" : "code",
         "metadata" : {},
         "source" : [
            "from sklearn.cluster import KMeans\nkmeans = KMeans(n_clusters=K).fit(X)\nkmeans.labels_"
         ]
      },
      {
         "cell_type" : "markdown",
         "metadata" : {},
         "source" : [
            "## Cluster centers\n\n"
         ]
      },
      {
         "cell_type" : "markdown",
         "metadata" : {},
         "source" : [
            "More than `labels_` we also get `cluster_centers_`.\n\n"
         ]
      },
      {
         "source" : [
            "kmeans.cluster_centers_"
         ],
         "cell_type" : "code",
         "metadata" : {},
         "outputs" : [],
         "execution_count" : 1
      },
      {
         "source" : [
            "Let&rsquo;s plot those centers.\n\n"
         ],
         "cell_type" : "markdown",
         "metadata" : {}
      },
      {
         "source" : [
            "import matplotlib.pyplot as plt\nplt.scatter(X[:,0], X[:,1])\nplt.scatter(kmeans.cluster_centers_[:,0], kmeans.cluster_centers_[:,1], c='r',s=200)\nplt.show()"
         ],
         "cell_type" : "code",
         "metadata" : {},
         "outputs" : [],
         "execution_count" : 1
      },
      {
         "metadata" : {},
         "cell_type" : "markdown",
         "source" : [
            "## How does this work?\n\n"
         ]
      },
      {
         "source" : [
            "So how does `KMeans` work?  First we initialize (randomly?) centers\nfor our clusters.\n\nThen we start looping.  What do we do during each iteration?  \n\nFor each point, we assign to each point the cluster center nearest to\nit; then we move the cluster centers to the average location of the\npoints assigned to it (hence k-**means**).  We could play the same game\nwith medians (and produce the so-called &ldquo;k-medians&rdquo; algorithm).\n\n"
         ],
         "metadata" : {},
         "cell_type" : "markdown"
      },
      {
         "source" : [
            "## Let's implement it!\n\n"
         ],
         "cell_type" : "markdown",
         "metadata" : {}
      },
      {
         "metadata" : {},
         "cell_type" : "markdown",
         "source" : [
            "We randomly choose centers.  One way to do this is to randomly choose\ndata from the data set; this is the &ldquo;Forgy method.&rdquo;\n\n"
         ]
      },
      {
         "execution_count" : 1,
         "outputs" : [],
         "cell_type" : "code",
         "metadata" : {},
         "source" : [
            "cluster_centers = X[np.random.choice(len(X),size=K)]"
         ]
      },
      {
         "source" : [
            "For each point, we figure out which cluster center is nearest to it.\n\n"
         ],
         "cell_type" : "markdown",
         "metadata" : {}
      },
      {
         "outputs" : [],
         "execution_count" : 1,
         "metadata" : {},
         "cell_type" : "code",
         "source" : [
            "def closest(X, cluster_centers):\n    distances = np.linalg.norm((X - cluster_centers[:, np.newaxis]), axis=2)\n    return np.argmin(distances, axis=0)"
         ]
      },
      {
         "cell_type" : "markdown",
         "metadata" : {},
         "source" : [
            "Now we find the new centers.\n\n"
         ]
      },
      {
         "source" : [
            "def new_centers(X, cluster_centers):\n    c = closest(X, cluster_centers)\n    return np.array([X[c==k].mean(axis=0) for k in range(K)])"
         ],
         "metadata" : {},
         "cell_type" : "code",
         "execution_count" : 1,
         "outputs" : []
      },
      {
         "source" : [
            "Now we can set up the algorithm.\n\n"
         ],
         "cell_type" : "markdown",
         "metadata" : {}
      },
      {
         "source" : [
            "def my_kmeans(X):\n    cluster_centers = X[np.random.choice(len(X),size=K)]\n    while True:\n        moved = new_centers(X, cluster_centers)\n        if np.linalg.norm( moved - cluster_centers ) < 0.001:\n             return cluster_centers\n        cluster_centers = moved\n\nmy_kmeans(X)"
         ],
         "outputs" : [],
         "execution_count" : 1,
         "cell_type" : "code",
         "metadata" : {}
      },
      {
         "cell_type" : "markdown",
         "metadata" : {},
         "source" : [
            "Is this really what `scikit-learn` is doing?\n\n"
         ]
      },
      {
         "source" : [
            "kmeans.cluster_centers_"
         ],
         "execution_count" : 1,
         "outputs" : [],
         "metadata" : {},
         "cell_type" : "code"
      },
      {
         "source" : [
            "## Homework\n\n"
         ],
         "cell_type" : "markdown",
         "metadata" : {}
      },
      {
         "source" : [
            "Use `numpy` to produce a random dataset which consists of a\nring-shaped region around a blob.\n\nDo you expect k-means will be able to identify such clusters?\n\n"
         ],
         "cell_type" : "markdown",
         "metadata" : {}
      }
   ],
   "nbformat" : 4,
   "nbformat_minor" : 0,
   "metadata" : {
      "language_info" : {
         "version" : "3.5.2",
         "codemirror_mode" : {
            "name" : "ipython",
            "version" : 3
         },
         "mimetype" : "text/x-python",
         "pygments_lexer" : "ipython3",
         "nbconvert_exporter" : "python",
         "file_extension" : ".py",
         "name" : "python"
      },
      "org" : null,
      "kernelspec" : {
         "name" : "python3",
         "display_name" : "Python 3",
         "language" : "python"
      }
   }
}

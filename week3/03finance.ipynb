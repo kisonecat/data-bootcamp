{
   "nbformat" : 4,
   "cells" : [
      {
         "metadata" : {},
         "source" : [
            "Another source for high-dimensional data comes from finance.\n\n"
         ],
         "cell_type" : "markdown"
      },
      {
         "source" : [
            "## Load real world data\n\n"
         ],
         "cell_type" : "markdown",
         "metadata" : {}
      },
      {
         "metadata" : {},
         "cell_type" : "markdown",
         "source" : [
            "Let&rsquo;s load some stock prices.\n\n"
         ]
      },
      {
         "execution_count" : 1,
         "outputs" : [],
         "source" : [
            "import os, json\nfiles = [f for f in os.listdir('week3/stocks') if f.endswith('.json')]\n\ndata = {}\nsymbols = []\nfor name in files:\n    with open(os.path.join('week3/stocks/', name),'r') as f:\n        d = json.load(f)\n        symbol = d['Meta Data']['2. Symbol']\n        symbols.append( symbol )\n        data[ symbol ] = d['Time Series (Daily)']"
         ],
         "cell_type" : "code",
         "metadata" : {}
      },
      {
         "metadata" : {},
         "cell_type" : "markdown",
         "source" : [
            "Convert it to a `pandas` data frame.\n\n"
         ]
      },
      {
         "execution_count" : 1,
         "outputs" : [],
         "cell_type" : "code",
         "source" : [
            "import pandas as pd\n\nmarket = pd.DataFrame(columns=['date'])\n\nfor symbol in data.keys():\n    dates = pd.DataFrame( pd.to_datetime( list(data[symbol].keys()) ), columns=['date'] )\n    closes = pd.DataFrame( [float(x['5. adjusted close']) for x in data[symbol].values()], columns=[symbol] )\n    df = pd.DataFrame( pd.concat( [dates, closes], axis=1 ) )\n    market = market.merge( df, how='outer' )"
         ],
         "metadata" : {}
      },
      {
         "metadata" : {},
         "cell_type" : "markdown",
         "source" : [
            "## Make a plot\n\n"
         ]
      },
      {
         "metadata" : {},
         "source" : [
            "Let&rsquo;s &ldquo;wrangle&rdquo; this data into our desired format.\n\n"
         ],
         "cell_type" : "markdown"
      },
      {
         "execution_count" : 1,
         "outputs" : [],
         "source" : [
            "import numpy as np\nprices = market.drop('date',axis=1)\nsymbols = list(prices.columns)\nX = np.array([prices[s] for s in symbols])"
         ],
         "cell_type" : "code",
         "metadata" : {}
      },
      {
         "metadata" : {},
         "source" : [
            "This is much too high-dimensional for us to plot.  Let&rsquo;s do some\nunsupervised dimensionality reduction.  Let&rsquo;s first normalize\neverything.\n\n"
         ],
         "cell_type" : "markdown"
      },
      {
         "source" : [
            "from sklearn.preprocessing import StandardScaler\nss = StandardScaler()\nss.fit(X.transpose())\nX2 = ss.transform(X.transpose())\nX2 = X2.transpose()"
         ],
         "cell_type" : "code",
         "metadata" : {},
         "execution_count" : 1,
         "outputs" : []
      },
      {
         "source" : [
            "Then we&rsquo;ll perform PCA.\n\n"
         ],
         "cell_type" : "markdown",
         "metadata" : {}
      },
      {
         "execution_count" : 1,
         "outputs" : [],
         "cell_type" : "code",
         "source" : [
            "from sklearn.decomposition import PCA\npca = PCA(n_components=2)\npca.fit(X2)  \nX3 = pca.transform(X2)"
         ],
         "metadata" : {}
      },
      {
         "cell_type" : "markdown",
         "source" : [
            "Plot it!\n\n"
         ],
         "metadata" : {}
      },
      {
         "metadata" : {},
         "cell_type" : "code",
         "source" : [
            "import matplotlib.pyplot as plt\nplt.scatter( X3[:,0], X3[:,1] )\nfor i, w in enumerate(symbols):\n    plt.text( X3[i,0], X3[i,1], w )\nplt.show()"
         ],
         "outputs" : [],
         "execution_count" : 1
      },
      {
         "cell_type" : "markdown",
         "source" : [
            "It looks Facebook and Apple are similar.\n\n"
         ],
         "metadata" : {}
      },
      {
         "metadata" : {},
         "source" : [
            "import matplotlib.pyplot as plt\nplt.scatter( prices['FB'], prices['AAPL'] )\nplt.show()"
         ],
         "cell_type" : "code",
         "outputs" : [],
         "execution_count" : 1
      },
      {
         "metadata" : {},
         "source" : [
            "Compare Toyota to Google.\n\n"
         ],
         "cell_type" : "markdown"
      },
      {
         "cell_type" : "code",
         "source" : [
            "import matplotlib.pyplot as plt\nplt.scatter( prices['TM'], prices['GOOG'] )\nplt.show()"
         ],
         "metadata" : {},
         "execution_count" : 1,
         "outputs" : []
      },
      {
         "source" : [
            "Dig further into this data.\n\n"
         ],
         "cell_type" : "markdown",
         "metadata" : {}
      }
   ],
   "nbformat_minor" : 0,
   "metadata" : {
      "org" : null,
      "kernelspec" : {
         "display_name" : "Python 3",
         "language" : "python",
         "name" : "python3"
      },
      "language_info" : {
         "nbconvert_exporter" : "python",
         "codemirror_mode" : {
            "version" : 3,
            "name" : "ipython"
         },
         "mimetype" : "text/x-python",
         "pygments_lexer" : "ipython3",
         "file_extension" : ".py",
         "version" : "3.5.2",
         "name" : "python"
      }
   }
}
